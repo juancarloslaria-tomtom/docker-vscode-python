{
 "cells": [
  {
   "cell_type": "code",
   "execution_count": 23,
   "id": "cb2575e7-a87c-4a26-88cb-acb729b27e68",
   "metadata": {},
   "outputs": [],
   "source": [
    "from datetime import datetime\n",
    "import sys"
   ]
  },
  {
   "cell_type": "code",
   "execution_count": 24,
   "id": "50a8e90f-30dc-4c17-85a4-53b3f360d721",
   "metadata": {},
   "outputs": [],
   "source": [
    "yourname = 'Juan'"
   ]
  },
  {
   "cell_type": "code",
   "execution_count": 25,
   "id": "f92c843e-0cb3-45f1-a56c-aa2302090781",
   "metadata": {},
   "outputs": [
    {
     "name": "stdout",
     "output_type": "stream",
     "text": [
      "Welcome Juan!\n",
      "You are running python 3.8.8 (default, Feb 24 2021, 21:46:12) \n",
      "[GCC 7.3.0]\n",
      "2021-08-05 08:41:24.606904\n"
     ]
    }
   ],
   "source": [
    "print(f\"Welcome {yourname}!\")\n",
    "print(f\"You are running python {sys.version}\")\n",
    "print(datetime.today())"
   ]
  },
  {
   "cell_type": "code",
   "execution_count": 26,
   "id": "23b7b999-a7be-4fab-9ee0-ab40420670db",
   "metadata": {},
   "outputs": [
    {
     "name": "stdin",
     "output_type": "stream",
     "text": [
      "Plase, tell me your name:  Juan\n"
     ]
    }
   ],
   "source": [
    "yourname = input('Plase, tell me your name: ')"
   ]
  },
  {
   "cell_type": "code",
   "execution_count": null,
   "id": "63afc5ac-65f6-4eea-8f7f-86d25a5b1036",
   "metadata": {},
   "outputs": [],
   "source": []
  }
 ],
 "metadata": {
  "kernelspec": {
   "display_name": "Python 3",
   "language": "python",
   "name": "python3"
  },
  "language_info": {
   "codemirror_mode": {
    "name": "ipython",
    "version": 3
   },
   "file_extension": ".py",
   "mimetype": "text/x-python",
   "name": "python",
   "nbconvert_exporter": "python",
   "pygments_lexer": "ipython3",
   "version": "3.8.8"
  }
 },
 "nbformat": 4,
 "nbformat_minor": 5
}
