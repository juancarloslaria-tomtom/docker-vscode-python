{
 "cells": [
  {
   "cell_type": "code",
   "execution_count": null,
   "id": "cb2575e7-a87c-4a26-88cb-acb729b27e68",
   "metadata": {},
   "outputs": [],
   "source": [
    "from datetime import datetime\n",
    "import sys"
   ]
  },
  {
   "cell_type": "code",
   "execution_count": null,
   "id": "50a8e90f-30dc-4c17-85a4-53b3f360d721",
   "metadata": {},
   "outputs": [],
   "source": [
    "yourname = 'Juan'"
   ]
  },
  {
   "cell_type": "code",
   "execution_count": null,
   "id": "f92c843e-0cb3-45f1-a56c-aa2302090781",
   "metadata": {},
   "outputs": [],
   "source": [
    "print(f\"Welcome {yourname}!\")\n",
    "print(f\"You are running python {sys.version}\")\n",
    "print(datetime.today())"
   ]
  },
  {
   "cell_type": "code",
   "execution_count": null,
   "id": "23b7b999-a7be-4fab-9ee0-ab40420670db",
   "metadata": {},
   "outputs": [],
   "source": [
    "yourname = input('Plase, tell me your name: ')"
   ]
  },
  {
   "cell_type": "code",
   "execution_count": 1,
   "id": "63afc5ac-65f6-4eea-8f7f-86d25a5b1036",
   "metadata": {},
   "outputs": [],
   "source": [
    "from mymodule import welcome"
   ]
  },
  {
   "cell_type": "code",
   "execution_count": 2,
   "id": "1933a9d8-8a8a-437f-b0c8-049deadf2540",
   "metadata": {},
   "outputs": [
    {
     "name": "stdin",
     "output_type": "stream",
     "text": [
      "Plase, tell me your name:  JJ\n"
     ]
    },
    {
     "name": "stdout",
     "output_type": "stream",
     "text": [
      "Welcome JJ!\n",
      "You are running python 3.8.8 (default, Feb 24 2021, 21:46:12) \n",
      "[GCC 7.3.0] and your executable is on /opt/conda/bin/python\n",
      "2021-08-05 08:57:11.795144\n"
     ]
    }
   ],
   "source": [
    "welcome()"
   ]
  },
  {
   "cell_type": "code",
   "execution_count": null,
   "id": "2f773f65-dc81-4b4e-b9a8-3a2913e2536d",
   "metadata": {},
   "outputs": [],
   "source": [
    "import sys"
   ]
  },
  {
   "cell_type": "code",
   "execution_count": null,
   "id": "04a2d00b-9498-4780-bd56-4e8a44af6f5d",
   "metadata": {},
   "outputs": [],
   "source": [
    "sys.executable"
   ]
  },
  {
   "cell_type": "code",
   "execution_count": null,
   "id": "7a51d4a4-1613-43ac-bf44-5913ef6d4344",
   "metadata": {},
   "outputs": [],
   "source": []
  }
 ],
 "metadata": {
  "kernelspec": {
   "display_name": "Python 3",
   "language": "python",
   "name": "python3"
  },
  "language_info": {
   "codemirror_mode": {
    "name": "ipython",
    "version": 3
   },
   "file_extension": ".py",
   "mimetype": "text/x-python",
   "name": "python",
   "nbconvert_exporter": "python",
   "pygments_lexer": "ipython3",
   "version": "3.8.8"
  }
 },
 "nbformat": 4,
 "nbformat_minor": 5
}
